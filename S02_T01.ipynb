{
 "cells": [
  {
   "cell_type": "markdown",
   "id": "2dc8098a",
   "metadata": {},
   "source": [
    "### Ejercicio 1\n",
    "Crea una llista que agrupi els mesos de l’any en trimestres (1T: Gener, Febrer i Març, 2T: Abril, Maig, Juny...), és a dir, una llista amb 4 llistes dins."
   ]
  },
  {
   "cell_type": "code",
   "execution_count": 14,
   "id": "2086e483",
   "metadata": {},
   "outputs": [],
   "source": [
    "\"\"\" \n",
    "    Lista llamada months con listas anidadas por trimestre. \n",
    "    El índice 0 de la lista es otra lista que incluye el primer trimestre.\n",
    "    Sucesivamente hasta tener los tres trimestres.\n",
    "\"\"\" \n",
    "months = [ [\"Enero\", \"Febrero\", \"Marzo\"] ,  [\"Abril\", \"Mayo\", \"Junio\"] , [\"Julio\", \"Agosto\", \"Septiembre\"] , [\"Octubre\", \"Noviembre\", \"Diciembre\"] ] \n"
   ]
  },
  {
   "cell_type": "markdown",
   "id": "626d24e5",
   "metadata": {},
   "source": [
    "### Ejercicio 2\n",
    "\n",
    "Crea un codi que et permeti accedir a:\n",
    "\n",
    " * El segon mes del primer trimestre\n",
    " * Els mesos del primer trimestre\n",
    " * Setembre i octubre"
   ]
  },
  {
   "cell_type": "code",
   "execution_count": 16,
   "id": "1527809b",
   "metadata": {},
   "outputs": [
    {
     "name": "stdout",
     "output_type": "stream",
     "text": [
      "Febrero\n",
      "['Enero', 'Febrero', 'Marzo']\n",
      "Septiembre Noviembre\n"
     ]
    }
   ],
   "source": [
    "\"\"\"\n",
    "    De la lista anteriormente creada, se imprime en pantalla:\n",
    "     - El mes de Febrero (Segundo mes del primer trimestre).\n",
    "     - El primer trimestre.\n",
    "     - Los meses de Septiembre y Octubre.\n",
    "\"\"\"\n",
    "\n",
    "months = [ [\"Enero\", \"Febrero\", \"Marzo\"] ,  [\"Abril\", \"Mayo\", \"Junio\"] , [\"Julio\", \"Agosto\", \"Septiembre\"] , [\"Octubre\", \"Noviembre\", \"Diciembre\"] ]\n",
    "        \n",
    "print (months[0][1])\n",
    "print (months[0])\n",
    "print (months[2][2], months[3][0] )"
   ]
  },
  {
   "cell_type": "markdown",
   "id": "c900d0dc",
   "metadata": {},
   "source": [
    "### Ejercicio 3\n",
    "\n",
    "Crea una llista amb nombres desordenats i respon a les següents preguntes:\n",
    "\n",
    " * Quants números hi ha?\n",
    " * Quantes vegades apareix el número 3\n",
    " * Quantes vegades apareixen els nombres 3 i 4?\n",
    " * Quin és el número més gran?\n",
    " * Quins són els 3 números més petits?\n",
    " * Quin és el rang d’aquesta llista?"
   ]
  },
  {
   "cell_type": "code",
   "execution_count": 34,
   "id": "d6972f1a",
   "metadata": {},
   "outputs": [
    {
     "name": "stdout",
     "output_type": "stream",
     "text": [
      "La lista contiene 7 números\n",
      "El número 3 aparece 2 veces\n",
      "El número 3 aparece 2 veces y el número 4 aparece 0 veces.\n",
      "El número de mayor valor es 256\n",
      "Los tres números de menor valor son [3, 3, 8]\n",
      "El rango de los números almacenados es 253\n"
     ]
    }
   ],
   "source": [
    "#Creada lista con números sin orden\n",
    "\n",
    "nums = [8,15,3,9,256,36,3]\n",
    "\n",
    "#Se imprime el tamaño de la lista\n",
    "print (\"La lista contiene\",len(nums),\"números\")\n",
    "\n",
    "#Se imprime las veces que se repite el número 3\n",
    "print (\"El número 3 aparece\",nums.count(3),\"veces\")\n",
    "\n",
    "#Se imprime las veces que se repite el número 3 y 4\n",
    "print (\"El número 3 aparece\",nums.count(3),\"veces y el número 4 aparece\",nums.count(4),\"veces.\")\n",
    "\n",
    "\"\"\"\"\n",
    "Se ordena la lista y se imprime el valor final, que una vez ordenado será el más alto.\n",
    "Así sabemos que el valor inicial siempre será el más bajo y el final el más alto\n",
    "y no afectará si se añaden más números a la lista.\n",
    "\"\"\"\"\n",
    "nums.sort()\n",
    "print (\"El número de mayor valor es\",nums[-1])\n",
    "\n",
    "#Con la lista ya ordenada, se imprimen los tres primeros items, que serán los de menor valor.\n",
    "print (\"Los tres números de menor valor son\",nums[0:3])\n",
    "\n",
    "#Se calcula el rango una vez la lista se ha ordenado y se imprime por pantalla.\n",
    "range = nums[-1] - nums[0]\n",
    "print (\"El rango de los números almacenados es\",range)"
   ]
  },
  {
   "cell_type": "markdown",
   "id": "b3361162",
   "metadata": {},
   "source": [
    "### Ejercicio 4\n",
    "\n",
    "Crea un diccionari de la següent forma i respon a les preguntes:\n",
    "\n",
    "compra = { \"Pomes\" : {\"Qty\": 5, \"€\": 0.42}, \"Peres\" : {\"Qty\": 3, \"€\": 0.66} }\n",
    "\n",
    " * Afegeix alguna fruita més\n",
    " * Quant han costat les peres en total?\n",
    " * Quantes fruites hem comprat en total?\n",
    " * Quina és la fruita més cara?"
   ]
  },
  {
   "cell_type": "code",
   "execution_count": 48,
   "id": "0913c0c7",
   "metadata": {
    "scrolled": true
   },
   "outputs": [
    {
     "name": "stdout",
     "output_type": "stream",
     "text": [
      "{'Pomes': {'Qty': 5, '€': 0.42}, 'Peres': {'Qty': 3, '€': 0.66}, 'Kiwis': {'Qty': 6, '€': 2.58}}\n",
      "Las peras han costado un total de  1.98 €.\n",
      "Se ha comprado un total de 14 piezas de fruta.\n",
      "Kiwis\n"
     ]
    }
   ],
   "source": [
    "compra = { \"Pomes\" : {\"Qty\": 5, \"€\": 0.42}, \"Peres\" : {\"Qty\": 3, \"€\": 0.66} }\n",
    "\n",
    "#Se añade fruta a la lista de la compra e imprime la lista en pantalla.\n",
    "compra [\"Kiwis\"] = {\"Qty\": 6, \"€\": 2.58}\n",
    "print (compra)\n",
    "\n",
    "#Se calcula el precio total de las peras y se calcula el coste total.\n",
    "pears_Price = float(compra[\"Peres\"][\"Qty\"]*compra[\"Peres\"][\"€\"])\n",
    "print (\"Las peras han costado un total de \",pears_Price,\"€.\")\n",
    "\n",
    "#Se calcula la cantidad de piezas de fruta compradas y se proporciona la cantidal total.\n",
    "total_Fruits = compra[\"Pomes\"][\"Qty\"]+compra[\"Peres\"][\"Qty\"]+compra[\"Kiwis\"][\"Qty\"]\n",
    "print(\"Se ha comprado un total de\",total_Fruits,\"piezas de fruta.\")\n",
    "\n",
    "# Se crea una función lambda (fruta) que accede a el valor \"€\" de toda la lista de la compra. Se imprime el valor máximo\n",
    "print(max(compra, key=lambda fruta : compra[fruta]['€']))"
   ]
  }
 ],
 "metadata": {
  "kernelspec": {
   "display_name": "Python 3 (ipykernel)",
   "language": "python",
   "name": "python3"
  },
  "language_info": {
   "codemirror_mode": {
    "name": "ipython",
    "version": 3
   },
   "file_extension": ".py",
   "mimetype": "text/x-python",
   "name": "python",
   "nbconvert_exporter": "python",
   "pygments_lexer": "ipython3",
   "version": "3.9.7"
  },
  "latex_envs": {
   "LaTeX_envs_menu_present": true,
   "autoclose": false,
   "autocomplete": true,
   "bibliofile": "biblio.bib",
   "cite_by": "apalike",
   "current_citInitial": 1,
   "eqLabelWithNumbers": true,
   "eqNumInitial": 1,
   "hotkeys": {
    "equation": ""
   },
   "labels_anchors": false,
   "latex_user_defs": false,
   "report_style_numbering": false,
   "user_envs_cfg": false
  }
 },
 "nbformat": 4,
 "nbformat_minor": 5
}
